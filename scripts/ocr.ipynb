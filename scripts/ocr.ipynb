{
 "cells": [
  {
   "cell_type": "code",
   "execution_count": null,
   "metadata": {
    "vscode": {
     "languageId": "plaintext"
    }
   },
   "outputs": [],
   "source": [
    "from google.colab import drive\n",
    "drive.mount('/content/drive')"
   ]
  },
  {
   "cell_type": "code",
   "execution_count": null,
   "metadata": {
    "vscode": {
     "languageId": "plaintext"
    }
   },
   "outputs": [],
   "source": [
    "pip install PyPDF2"
   ]
  },
  {
   "cell_type": "code",
   "execution_count": null,
   "metadata": {
    "vscode": {
     "languageId": "plaintext"
    }
   },
   "outputs": [],
   "source": [
    "from PyPDF2 import PdfReader, PdfWriter\n",
    "\n",
    "def split_pdf(input_pdf, pages_per_chunk=10):\n",
    "    reader = PdfReader(input_pdf)\n",
    "    total_pages = len(reader.pages)\n",
    "    pdf_chunks = []\n",
    "\n",
    "    for i in range(0, total_pages, pages_per_chunk):\n",
    "        writer = PdfWriter()\n",
    "        for j in range(i, min(i + pages_per_chunk, total_pages)):\n",
    "            writer.add_page(reader.pages[j])\n",
    "\n",
    "        chunk_filename = f\"chunk_{i // pages_per_chunk + 1}.pdf\"\n",
    "        with open(chunk_filename, 'wb') as chunk_file:\n",
    "            writer.write(chunk_file)\n",
    "\n",
    "        pdf_chunks.append(chunk_filename)\n",
    "\n",
    "    return pdf_chunks\n",
    "\n",
    "# 사용 예시\n",
    "pdf_file = '/content/drive/MyDrive/설민석의 조선왕조실록.pdf'\n",
    "pdf_chunks = split_pdf(pdf_file, pages_per_chunk=10)\n",
    "print(f\"PDF 분할 완료: {pdf_chunks}\")\n"
   ]
  },
  {
   "cell_type": "code",
   "execution_count": null,
   "metadata": {
    "vscode": {
     "languageId": "plaintext"
    }
   },
   "outputs": [],
   "source": [
    "### 30개\n",
    "\n",
    "import requests\n",
    "import uuid\n",
    "import time\n",
    "import json\n",
    "\n",
    "# API URL과 Secret Key\n",
    "api_url = 'YOUR_API_URL'\n",
    "secret_key = 'YOUR_API_KEY'\n",
    "\n",
    "def process_pdf(file_name, output_name):\n",
    "    \"\"\"OCR 처리 후 텍스트 저장\"\"\"\n",
    "    # 요청 데이터 생성\n",
    "    request_json = {\n",
    "        'images': [\n",
    "            {\n",
    "                'format': 'pdf',  # PDF 형식\n",
    "                'name': file_name\n",
    "            }\n",
    "        ],\n",
    "        'requestId': str(uuid.uuid4()),\n",
    "        'version': 'V2',\n",
    "        'timestamp': int(round(time.time() * 1000)),\n",
    "        \"lang\": \"ko\"\n",
    "    }\n",
    "\n",
    "    # 파일과 헤더 설정\n",
    "    payload = {'message': json.dumps(request_json).encode('UTF-8')}\n",
    "    files = [\n",
    "        ('file', open(file_name, 'rb'))\n",
    "    ]\n",
    "    headers = {\n",
    "        'X-OCR-SECRET': secret_key\n",
    "    }\n",
    "\n",
    "    # API 요청\n",
    "    response = requests.post(api_url, headers=headers, data=payload, files=files)\n",
    "\n",
    "    # 결과 처리\n",
    "    if response.status_code == 200:\n",
    "        ocr_result = response.json()  # JSON 응답 파싱\n",
    "        extracted_text = []\n",
    "\n",
    "        # 텍스트 추출\n",
    "        for image in ocr_result.get('images', []):\n",
    "            for field in image.get('fields', []):\n",
    "                extracted_text.append(field.get('inferText', ''))\n",
    "\n",
    "        # 문장 형태로 병합\n",
    "        full_text = ' '.join(extracted_text).replace(' .', '.').replace(' ,', ',')\n",
    "\n",
    "        # 텍스트 파일로 저장\n",
    "        with open(output_name, 'w', encoding='utf-8') as f:\n",
    "            f.write(full_text)\n",
    "\n",
    "        print(f\"OCR 결과가 '{output_name}' 파일에 저장되었습니다.\")\n",
    "    else:\n",
    "        print(f\"API 요청 실패 ({file_name}): {response.status_code}, {response.text}\")\n",
    "\n",
    "# 반복 처리 (30개 chunk 파일)\n",
    "for i in range(1, 31):\n",
    "    input_file = f'chunk_{i}.pdf'  # PDF 파일명 (chunk_1.pdf, chunk_2.pdf, ...)\n",
    "    output_file = f'/content/drive/MyDrive/ocr_result_chunk_{i}.txt'  # 결과 저장 파일명\n",
    "    print(f\"Processing {input_file}...\")\n",
    "    process_pdf(input_file, output_file)\n"
   ]
  }
 ],
 "metadata": {
  "language_info": {
   "name": "python"
  }
 },
 "nbformat": 4,
 "nbformat_minor": 2
}
